{
 "cells": [
  {
   "cell_type": "markdown",
   "metadata": {
    "collapsed": true
   },
   "source": [
    "# Predicting Car Prices wit K-nearest neighbors model"
   ]
  },
  {
   "cell_type": "markdown",
   "metadata": {},
   "source": [
    "Main goal of this project is to create a model that will predict car prices with two approaches:\n",
    "- train/test validation\n",
    "- k-fold validation"
   ]
  },
  {
   "cell_type": "markdown",
   "metadata": {},
   "source": [
    "Dataset: https://archive.ics.uci.edu/ml/datasets/automobile"
   ]
  },
  {
   "cell_type": "markdown",
   "metadata": {},
   "source": [
    "# Data Cleaning"
   ]
  },
  {
   "cell_type": "code",
   "execution_count": 1,
   "metadata": {},
   "outputs": [],
   "source": [
    "import pandas as pd\n",
    "import numpy as np"
   ]
  },
  {
   "cell_type": "code",
   "execution_count": 2,
   "metadata": {},
   "outputs": [],
   "source": [
    "cars = pd.read_csv(\"imports-85.data\", sep=\",\", header=None)"
   ]
  },
  {
   "cell_type": "code",
   "execution_count": 3,
   "metadata": {},
   "outputs": [],
   "source": [
    "cars.columns = [\"symboling\",\"normalized_losses\",\"make\",\"fuel_type\",\"aspiration\",\"num_doors\",\"body_style\",\"drive_wheels\",\"engine_location\",\"wheel_base\",\"length\",\"width\",\"height\",\"curb_weight\",\"engine_type\",\"num_cylinders\",\"engine_size\",\"fuel_system\",\"bore\",\"stroke\",\"compression_ratio\",\"horsepower\",\"peak_rpm\",\"city_mpg\",\"highway_mpg\",\"price\"]"
   ]
  },
  {
   "cell_type": "code",
   "execution_count": 4,
   "metadata": {},
   "outputs": [
    {
     "data": {
      "text/html": [
       "<div>\n",
       "<style scoped>\n",
       "    .dataframe tbody tr th:only-of-type {\n",
       "        vertical-align: middle;\n",
       "    }\n",
       "\n",
       "    .dataframe tbody tr th {\n",
       "        vertical-align: top;\n",
       "    }\n",
       "\n",
       "    .dataframe thead th {\n",
       "        text-align: right;\n",
       "    }\n",
       "</style>\n",
       "<table border=\"1\" class=\"dataframe\">\n",
       "  <thead>\n",
       "    <tr style=\"text-align: right;\">\n",
       "      <th></th>\n",
       "      <th>symboling</th>\n",
       "      <th>normalized_losses</th>\n",
       "      <th>make</th>\n",
       "      <th>fuel_type</th>\n",
       "      <th>aspiration</th>\n",
       "      <th>num_doors</th>\n",
       "      <th>body_style</th>\n",
       "      <th>drive_wheels</th>\n",
       "      <th>engine_location</th>\n",
       "      <th>wheel_base</th>\n",
       "      <th>...</th>\n",
       "      <th>engine_size</th>\n",
       "      <th>fuel_system</th>\n",
       "      <th>bore</th>\n",
       "      <th>stroke</th>\n",
       "      <th>compression_ratio</th>\n",
       "      <th>horsepower</th>\n",
       "      <th>peak_rpm</th>\n",
       "      <th>city_mpg</th>\n",
       "      <th>highway_mpg</th>\n",
       "      <th>price</th>\n",
       "    </tr>\n",
       "  </thead>\n",
       "  <tbody>\n",
       "    <tr>\n",
       "      <th>0</th>\n",
       "      <td>3</td>\n",
       "      <td>?</td>\n",
       "      <td>alfa-romero</td>\n",
       "      <td>gas</td>\n",
       "      <td>std</td>\n",
       "      <td>two</td>\n",
       "      <td>convertible</td>\n",
       "      <td>rwd</td>\n",
       "      <td>front</td>\n",
       "      <td>88.6</td>\n",
       "      <td>...</td>\n",
       "      <td>130</td>\n",
       "      <td>mpfi</td>\n",
       "      <td>3.47</td>\n",
       "      <td>2.68</td>\n",
       "      <td>9.0</td>\n",
       "      <td>111</td>\n",
       "      <td>5000</td>\n",
       "      <td>21</td>\n",
       "      <td>27</td>\n",
       "      <td>13495</td>\n",
       "    </tr>\n",
       "    <tr>\n",
       "      <th>1</th>\n",
       "      <td>3</td>\n",
       "      <td>?</td>\n",
       "      <td>alfa-romero</td>\n",
       "      <td>gas</td>\n",
       "      <td>std</td>\n",
       "      <td>two</td>\n",
       "      <td>convertible</td>\n",
       "      <td>rwd</td>\n",
       "      <td>front</td>\n",
       "      <td>88.6</td>\n",
       "      <td>...</td>\n",
       "      <td>130</td>\n",
       "      <td>mpfi</td>\n",
       "      <td>3.47</td>\n",
       "      <td>2.68</td>\n",
       "      <td>9.0</td>\n",
       "      <td>111</td>\n",
       "      <td>5000</td>\n",
       "      <td>21</td>\n",
       "      <td>27</td>\n",
       "      <td>16500</td>\n",
       "    </tr>\n",
       "    <tr>\n",
       "      <th>2</th>\n",
       "      <td>1</td>\n",
       "      <td>?</td>\n",
       "      <td>alfa-romero</td>\n",
       "      <td>gas</td>\n",
       "      <td>std</td>\n",
       "      <td>two</td>\n",
       "      <td>hatchback</td>\n",
       "      <td>rwd</td>\n",
       "      <td>front</td>\n",
       "      <td>94.5</td>\n",
       "      <td>...</td>\n",
       "      <td>152</td>\n",
       "      <td>mpfi</td>\n",
       "      <td>2.68</td>\n",
       "      <td>3.47</td>\n",
       "      <td>9.0</td>\n",
       "      <td>154</td>\n",
       "      <td>5000</td>\n",
       "      <td>19</td>\n",
       "      <td>26</td>\n",
       "      <td>16500</td>\n",
       "    </tr>\n",
       "    <tr>\n",
       "      <th>3</th>\n",
       "      <td>2</td>\n",
       "      <td>164</td>\n",
       "      <td>audi</td>\n",
       "      <td>gas</td>\n",
       "      <td>std</td>\n",
       "      <td>four</td>\n",
       "      <td>sedan</td>\n",
       "      <td>fwd</td>\n",
       "      <td>front</td>\n",
       "      <td>99.8</td>\n",
       "      <td>...</td>\n",
       "      <td>109</td>\n",
       "      <td>mpfi</td>\n",
       "      <td>3.19</td>\n",
       "      <td>3.40</td>\n",
       "      <td>10.0</td>\n",
       "      <td>102</td>\n",
       "      <td>5500</td>\n",
       "      <td>24</td>\n",
       "      <td>30</td>\n",
       "      <td>13950</td>\n",
       "    </tr>\n",
       "    <tr>\n",
       "      <th>4</th>\n",
       "      <td>2</td>\n",
       "      <td>164</td>\n",
       "      <td>audi</td>\n",
       "      <td>gas</td>\n",
       "      <td>std</td>\n",
       "      <td>four</td>\n",
       "      <td>sedan</td>\n",
       "      <td>4wd</td>\n",
       "      <td>front</td>\n",
       "      <td>99.4</td>\n",
       "      <td>...</td>\n",
       "      <td>136</td>\n",
       "      <td>mpfi</td>\n",
       "      <td>3.19</td>\n",
       "      <td>3.40</td>\n",
       "      <td>8.0</td>\n",
       "      <td>115</td>\n",
       "      <td>5500</td>\n",
       "      <td>18</td>\n",
       "      <td>22</td>\n",
       "      <td>17450</td>\n",
       "    </tr>\n",
       "  </tbody>\n",
       "</table>\n",
       "<p>5 rows × 26 columns</p>\n",
       "</div>"
      ],
      "text/plain": [
       "   symboling normalized_losses         make fuel_type aspiration num_doors  \\\n",
       "0          3                 ?  alfa-romero       gas        std       two   \n",
       "1          3                 ?  alfa-romero       gas        std       two   \n",
       "2          1                 ?  alfa-romero       gas        std       two   \n",
       "3          2               164         audi       gas        std      four   \n",
       "4          2               164         audi       gas        std      four   \n",
       "\n",
       "    body_style drive_wheels engine_location  wheel_base  ...  engine_size  \\\n",
       "0  convertible          rwd           front        88.6  ...          130   \n",
       "1  convertible          rwd           front        88.6  ...          130   \n",
       "2    hatchback          rwd           front        94.5  ...          152   \n",
       "3        sedan          fwd           front        99.8  ...          109   \n",
       "4        sedan          4wd           front        99.4  ...          136   \n",
       "\n",
       "   fuel_system  bore  stroke compression_ratio horsepower  peak_rpm city_mpg  \\\n",
       "0         mpfi  3.47    2.68               9.0        111      5000       21   \n",
       "1         mpfi  3.47    2.68               9.0        111      5000       21   \n",
       "2         mpfi  2.68    3.47               9.0        154      5000       19   \n",
       "3         mpfi  3.19    3.40              10.0        102      5500       24   \n",
       "4         mpfi  3.19    3.40               8.0        115      5500       18   \n",
       "\n",
       "  highway_mpg  price  \n",
       "0          27  13495  \n",
       "1          27  16500  \n",
       "2          26  16500  \n",
       "3          30  13950  \n",
       "4          22  17450  \n",
       "\n",
       "[5 rows x 26 columns]"
      ]
     },
     "execution_count": 4,
     "metadata": {},
     "output_type": "execute_result"
    }
   ],
   "source": [
    "cars.head()"
   ]
  },
  {
   "cell_type": "code",
   "execution_count": 5,
   "metadata": {},
   "outputs": [
    {
     "name": "stdout",
     "output_type": "stream",
     "text": [
      "<class 'pandas.core.frame.DataFrame'>\n",
      "RangeIndex: 205 entries, 0 to 204\n",
      "Data columns (total 26 columns):\n",
      " #   Column             Non-Null Count  Dtype  \n",
      "---  ------             --------------  -----  \n",
      " 0   symboling          205 non-null    int64  \n",
      " 1   normalized_losses  205 non-null    object \n",
      " 2   make               205 non-null    object \n",
      " 3   fuel_type          205 non-null    object \n",
      " 4   aspiration         205 non-null    object \n",
      " 5   num_doors          205 non-null    object \n",
      " 6   body_style         205 non-null    object \n",
      " 7   drive_wheels       205 non-null    object \n",
      " 8   engine_location    205 non-null    object \n",
      " 9   wheel_base         205 non-null    float64\n",
      " 10  length             205 non-null    float64\n",
      " 11  width              205 non-null    float64\n",
      " 12  height             205 non-null    float64\n",
      " 13  curb_weight        205 non-null    int64  \n",
      " 14  engine_type        205 non-null    object \n",
      " 15  num_cylinders      205 non-null    object \n",
      " 16  engine_size        205 non-null    int64  \n",
      " 17  fuel_system        205 non-null    object \n",
      " 18  bore               205 non-null    object \n",
      " 19  stroke             205 non-null    object \n",
      " 20  compression_ratio  205 non-null    float64\n",
      " 21  horsepower         205 non-null    object \n",
      " 22  peak_rpm           205 non-null    object \n",
      " 23  city_mpg           205 non-null    int64  \n",
      " 24  highway_mpg        205 non-null    int64  \n",
      " 25  price              205 non-null    object \n",
      "dtypes: float64(5), int64(5), object(16)\n",
      "memory usage: 41.8+ KB\n"
     ]
    }
   ],
   "source": [
    "cars.info()"
   ]
  },
  {
   "cell_type": "markdown",
   "metadata": {},
   "source": [
    "First lets do some data clean up. In the documentation of the dataset there is information that N/A values are presented in data frame as '?'. "
   ]
  },
  {
   "cell_type": "code",
   "execution_count": 6,
   "metadata": {},
   "outputs": [],
   "source": [
    "cars.replace('?', np.nan, inplace=True)"
   ]
  },
  {
   "cell_type": "markdown",
   "metadata": {},
   "source": [
    "Now lets check out how many null values are in columns"
   ]
  },
  {
   "cell_type": "code",
   "execution_count": 7,
   "metadata": {},
   "outputs": [
    {
     "data": {
      "text/plain": [
       "symboling             0\n",
       "normalized_losses    41\n",
       "make                  0\n",
       "fuel_type             0\n",
       "aspiration            0\n",
       "num_doors             2\n",
       "body_style            0\n",
       "drive_wheels          0\n",
       "engine_location       0\n",
       "wheel_base            0\n",
       "length                0\n",
       "width                 0\n",
       "height                0\n",
       "curb_weight           0\n",
       "engine_type           0\n",
       "num_cylinders         0\n",
       "engine_size           0\n",
       "fuel_system           0\n",
       "bore                  4\n",
       "stroke                4\n",
       "compression_ratio     0\n",
       "horsepower            2\n",
       "peak_rpm              2\n",
       "city_mpg              0\n",
       "highway_mpg           0\n",
       "price                 4\n",
       "dtype: int64"
      ]
     },
     "execution_count": 7,
     "metadata": {},
     "output_type": "execute_result"
    }
   ],
   "source": [
    "cars.isnull().sum()"
   ]
  },
  {
   "cell_type": "markdown",
   "metadata": {},
   "source": [
    "I want to predict car price value, so first I will drop all rows with no information about car price."
   ]
  },
  {
   "cell_type": "code",
   "execution_count": 8,
   "metadata": {},
   "outputs": [],
   "source": [
    "cars.dropna(subset=['price'], inplace=True)\n",
    "cars['price'] = cars['price'].astype(float)"
   ]
  },
  {
   "cell_type": "markdown",
   "metadata": {},
   "source": [
    "For other columns that have null values, I will change to column mean value"
   ]
  },
  {
   "cell_type": "code",
   "execution_count": 9,
   "metadata": {},
   "outputs": [],
   "source": [
    "cars['normalized_losses'] = cars['normalized_losses'].astype(float)\n",
    "cars['normalized_losses'] = cars['normalized_losses'].fillna(cars['normalized_losses'].mean())"
   ]
  },
  {
   "cell_type": "code",
   "execution_count": 10,
   "metadata": {},
   "outputs": [],
   "source": [
    "cars['bore'] = cars['bore'].astype(float)\n",
    "cars['bore'] = cars['bore'].fillna(cars['bore'].mean())"
   ]
  },
  {
   "cell_type": "code",
   "execution_count": 11,
   "metadata": {},
   "outputs": [],
   "source": [
    "cars['stroke'] = cars['stroke'].astype(float)\n",
    "cars['stroke'] = cars['stroke'].fillna(cars['stroke'].mean())"
   ]
  },
  {
   "cell_type": "code",
   "execution_count": 12,
   "metadata": {},
   "outputs": [],
   "source": [
    "cars['horsepower'] = cars['horsepower'].astype(float)\n",
    "cars['horsepower'] = cars['horsepower'].fillna(cars['horsepower'].mean())"
   ]
  },
  {
   "cell_type": "code",
   "execution_count": 13,
   "metadata": {},
   "outputs": [],
   "source": [
    "cars['peak_rpm'] = cars['peak_rpm'].astype(float)\n",
    "cars['peak_rpm'] = cars['peak_rpm'].fillna(cars['peak_rpm'].mean())"
   ]
  },
  {
   "cell_type": "code",
   "execution_count": 14,
   "metadata": {},
   "outputs": [
    {
     "data": {
      "text/plain": [
       "symboling            0\n",
       "normalized_losses    0\n",
       "make                 0\n",
       "fuel_type            0\n",
       "aspiration           0\n",
       "num_doors            2\n",
       "body_style           0\n",
       "drive_wheels         0\n",
       "engine_location      0\n",
       "wheel_base           0\n",
       "length               0\n",
       "width                0\n",
       "height               0\n",
       "curb_weight          0\n",
       "engine_type          0\n",
       "num_cylinders        0\n",
       "engine_size          0\n",
       "fuel_system          0\n",
       "bore                 0\n",
       "stroke               0\n",
       "compression_ratio    0\n",
       "horsepower           0\n",
       "peak_rpm             0\n",
       "city_mpg             0\n",
       "highway_mpg          0\n",
       "price                0\n",
       "dtype: int64"
      ]
     },
     "execution_count": 14,
     "metadata": {},
     "output_type": "execute_result"
    }
   ],
   "source": [
    "cars.isnull().sum()"
   ]
  },
  {
   "cell_type": "markdown",
   "metadata": {},
   "source": [
    "Having string in column (i.e. '?'), pandas DataFrame will mark type of this column as 'object'. Even if columns is numeric. Now I got rid of '?', so I can transform approritate columns to numeric types. Based on documentation: \n",
    "1. symboling: -3, -2, -1, 0, 1, 2, 3.\n",
    "2. normalized-losses: continuous from 65 to 256.\n",
    "10. wheel-base: continuous from 86.6 120.9.\n",
    "11. length: continuous from 141.1 to 208.1.\n",
    "12. width: continuous from 60.3 to 72.3.\n",
    "13. height: continuous from 47.8 to 59.8.\n",
    "14. curb-weight: continuous from 1488 to 4066.\n",
    "17. engine-size: continuous from 61 to 326.\n",
    "19. bore: continuous from 2.54 to 3.94.\n",
    "20. stroke: continuous from 2.07 to 4.17.\n",
    "21. compression-ratio: continuous from 7 to 23.\n",
    "22. horsepower: continuous from 48 to 288.\n",
    "23. peak-rpm: continuous from 4150 to 6600.\n",
    "24. city-mpg: continuous from 13 to 49.\n",
    "25. highway-mpg: continuous from 16 to 54.\n",
    "26. price: continuous from 5118 to 45400."
   ]
  },
  {
   "cell_type": "markdown",
   "metadata": {},
   "source": [
    "Column 'num_doors' is string column, so its not possible to change null values with column mean(). For further analisys, only numerical columns are needed and will be exctracted from current data frame."
   ]
  },
  {
   "cell_type": "code",
   "execution_count": 15,
   "metadata": {},
   "outputs": [],
   "source": [
    "num_cars_data = cars[['normalized_losses', 'wheel_base', 'length', 'width', 'height', 'curb_weight', 'bore', 'stroke', 'compression_ratio', 'horsepower', 'peak_rpm', 'city_mpg', 'highway_mpg', 'price']]"
   ]
  },
  {
   "cell_type": "code",
   "execution_count": 16,
   "metadata": {},
   "outputs": [
    {
     "name": "stdout",
     "output_type": "stream",
     "text": [
      "<class 'pandas.core.frame.DataFrame'>\n",
      "Int64Index: 201 entries, 0 to 204\n",
      "Data columns (total 14 columns):\n",
      " #   Column             Non-Null Count  Dtype  \n",
      "---  ------             --------------  -----  \n",
      " 0   normalized_losses  201 non-null    float64\n",
      " 1   wheel_base         201 non-null    float64\n",
      " 2   length             201 non-null    float64\n",
      " 3   width              201 non-null    float64\n",
      " 4   height             201 non-null    float64\n",
      " 5   curb_weight        201 non-null    int64  \n",
      " 6   bore               201 non-null    float64\n",
      " 7   stroke             201 non-null    float64\n",
      " 8   compression_ratio  201 non-null    float64\n",
      " 9   horsepower         201 non-null    float64\n",
      " 10  peak_rpm           201 non-null    float64\n",
      " 11  city_mpg           201 non-null    int64  \n",
      " 12  highway_mpg        201 non-null    int64  \n",
      " 13  price              201 non-null    float64\n",
      "dtypes: float64(11), int64(3)\n",
      "memory usage: 23.6 KB\n"
     ]
    }
   ],
   "source": [
    "num_cars_data.info()"
   ]
  },
  {
   "cell_type": "markdown",
   "metadata": {},
   "source": [
    "Now data is cleaned, I will normalize values in range (0, 1)."
   ]
  },
  {
   "cell_type": "code",
   "execution_count": 17,
   "metadata": {},
   "outputs": [],
   "source": [
    "normalized_cars_data = (num_cars_data - num_cars_data.min())/(num_cars_data.max() - num_cars_data.min())"
   ]
  },
  {
   "cell_type": "code",
   "execution_count": 18,
   "metadata": {},
   "outputs": [],
   "source": [
    "normalized_cars_data['price'] = cars['price']"
   ]
  },
  {
   "cell_type": "code",
   "execution_count": 19,
   "metadata": {},
   "outputs": [
    {
     "name": "stdout",
     "output_type": "stream",
     "text": [
      "<class 'pandas.core.frame.DataFrame'>\n",
      "Int64Index: 201 entries, 0 to 204\n",
      "Data columns (total 14 columns):\n",
      " #   Column             Non-Null Count  Dtype  \n",
      "---  ------             --------------  -----  \n",
      " 0   normalized_losses  201 non-null    float64\n",
      " 1   wheel_base         201 non-null    float64\n",
      " 2   length             201 non-null    float64\n",
      " 3   width              201 non-null    float64\n",
      " 4   height             201 non-null    float64\n",
      " 5   curb_weight        201 non-null    float64\n",
      " 6   bore               201 non-null    float64\n",
      " 7   stroke             201 non-null    float64\n",
      " 8   compression_ratio  201 non-null    float64\n",
      " 9   horsepower         201 non-null    float64\n",
      " 10  peak_rpm           201 non-null    float64\n",
      " 11  city_mpg           201 non-null    float64\n",
      " 12  highway_mpg        201 non-null    float64\n",
      " 13  price              201 non-null    float64\n",
      "dtypes: float64(14)\n",
      "memory usage: 23.6 KB\n"
     ]
    }
   ],
   "source": [
    "normalized_cars_data.info()"
   ]
  },
  {
   "cell_type": "markdown",
   "metadata": {},
   "source": [
    "To understand cars data more, I will start with simple univariate k-nearest neighbors models and train/test validaton. "
   ]
  },
  {
   "cell_type": "code",
   "execution_count": 20,
   "metadata": {},
   "outputs": [],
   "source": [
    "from sklearn.neighbors import KNeighborsRegressor\n",
    "from sklearn.metrics import mean_squared_error\n",
    "\n",
    "def knn_train_test(features, target, data, k):\n",
    "    # randomize data first\n",
    "    data_length = len(data)\n",
    "    np.random.seed(1)\n",
    "    random_data_indexes = np.random.permutation(data_length)\n",
    "    randomized_data = data.iloc[random_data_indexes]\n",
    "    \n",
    "    # split train and test data evenly - holdout validation\n",
    "    train = randomized_data[:round(data_length/2)]\n",
    "    test = randomized_data[round(data_length/2):]\n",
    "    \n",
    "    knn = KNeighborsRegressor(n_neighbors=k)\n",
    "    knn.fit(train[features], train[target])\n",
    "    predictions = knn.predict(test[features])\n",
    "    \n",
    "    # model metric - root square mean error\n",
    "    rmse = mean_squared_error(test[target], predictions)**0.5\n",
    "    return rmse"
   ]
  },
  {
   "cell_type": "markdown",
   "metadata": {},
   "source": [
    "Based on above function, I will experiment with model on numeric columns to get more information about data."
   ]
  },
  {
   "cell_type": "code",
   "execution_count": 21,
   "metadata": {},
   "outputs": [
    {
     "name": "stdout",
     "output_type": "stream",
     "text": [
      "4037.0377131537603\n"
     ]
    }
   ],
   "source": [
    "rmse_horsepower = knn_train_test(['horsepower'], ['price'], normalized_cars_data, 5)\n",
    "print(rmse_horsepower)"
   ]
  },
  {
   "cell_type": "code",
   "execution_count": 22,
   "metadata": {},
   "outputs": [],
   "source": [
    "features = ['normalized_losses', 'wheel_base', 'length', 'width', 'height', 'curb_weight', 'bore', 'stroke', 'compression_ratio', 'horsepower', 'peak_rpm', 'city_mpg', 'highway_mpg']"
   ]
  },
  {
   "cell_type": "code",
   "execution_count": 23,
   "metadata": {},
   "outputs": [
    {
     "name": "stdout",
     "output_type": "stream",
     "text": [
      "Feature: normalized_losses, RMSE: 7330.197653434445\n",
      "Feature: wheel_base, RMSE: 5461.553997873057\n",
      "Feature: length, RMSE: 5427.2009608367125\n",
      "Feature: width, RMSE: 4704.482589704386\n",
      "Feature: height, RMSE: 8144.441042663747\n",
      "Feature: curb_weight, RMSE: 4401.118254793124\n",
      "Feature: bore, RMSE: 6780.627784685976\n",
      "Feature: stroke, RMSE: 8006.529544647101\n",
      "Feature: compression_ratio, RMSE: 6610.812153159129\n",
      "Feature: horsepower, RMSE: 4037.0377131537603\n",
      "Feature: peak_rpm, RMSE: 7697.4596964334805\n",
      "Feature: city_mpg, RMSE: 4766.422505090134\n",
      "Feature: highway_mpg, RMSE: 4630.026798588056\n"
     ]
    }
   ],
   "source": [
    "for feature in features:\n",
    "    rmse = knn_train_test([feature], ['price'], normalized_cars_data, 5)\n",
    "    print('Feature: {}, RMSE: {}'.format(feature, rmse))"
   ]
  },
  {
   "cell_type": "markdown",
   "metadata": {},
   "source": [
    "It seems that trained univariate model on features like curb_weight or horsepower or highway_mpg has got the lowest RMS error"
   ]
  },
  {
   "cell_type": "markdown",
   "metadata": {},
   "source": [
    "Lets also experiment with neighbors value:"
   ]
  },
  {
   "cell_type": "code",
   "execution_count": 24,
   "metadata": {},
   "outputs": [
    {
     "name": "stdout",
     "output_type": "stream",
     "text": [
      "Feature: normalized_losses, k: 1, RMSE: 7846.750605148984\n",
      "Feature: normalized_losses, k: 3, RMSE: 7500.5698123109905\n",
      "Feature: normalized_losses, k: 5, RMSE: 7330.197653434445\n",
      "Feature: normalized_losses, k: 7, RMSE: 7756.421586234123\n",
      "Feature: normalized_losses, k: 9, RMSE: 7688.096096891432\n",
      "Feature: wheel_base, k: 1, RMSE: 4493.734068810494\n",
      "Feature: wheel_base, k: 3, RMSE: 5120.161506064513\n",
      "Feature: wheel_base, k: 5, RMSE: 5461.553997873057\n",
      "Feature: wheel_base, k: 7, RMSE: 5448.1070513823315\n",
      "Feature: wheel_base, k: 9, RMSE: 5738.405685192312\n",
      "Feature: length, k: 1, RMSE: 4628.45550121557\n",
      "Feature: length, k: 3, RMSE: 5129.8358210721635\n",
      "Feature: length, k: 5, RMSE: 5427.2009608367125\n",
      "Feature: length, k: 7, RMSE: 5313.427720847974\n",
      "Feature: length, k: 9, RMSE: 5383.054514833446\n",
      "Feature: width, k: 1, RMSE: 4559.257297950061\n",
      "Feature: width, k: 3, RMSE: 4606.413692169901\n",
      "Feature: width, k: 5, RMSE: 4704.482589704386\n",
      "Feature: width, k: 7, RMSE: 4571.485046194653\n",
      "Feature: width, k: 9, RMSE: 4652.914172067787\n",
      "Feature: height, k: 1, RMSE: 8904.04645636071\n",
      "Feature: height, k: 3, RMSE: 8277.609643045525\n",
      "Feature: height, k: 5, RMSE: 8144.441042663747\n",
      "Feature: height, k: 7, RMSE: 7679.598124393773\n",
      "Feature: height, k: 9, RMSE: 7811.03606291223\n",
      "Feature: curb_weight, k: 1, RMSE: 5264.290230758878\n",
      "Feature: curb_weight, k: 3, RMSE: 5022.318011757233\n",
      "Feature: curb_weight, k: 5, RMSE: 4401.118254793124\n",
      "Feature: curb_weight, k: 7, RMSE: 4330.608104418053\n",
      "Feature: curb_weight, k: 9, RMSE: 4632.044474454401\n",
      "Feature: bore, k: 1, RMSE: 8602.58848450066\n",
      "Feature: bore, k: 3, RMSE: 6984.239489480916\n",
      "Feature: bore, k: 5, RMSE: 6780.627784685976\n",
      "Feature: bore, k: 7, RMSE: 6878.097965921532\n",
      "Feature: bore, k: 9, RMSE: 6866.808502038413\n",
      "Feature: stroke, k: 1, RMSE: 9116.495955406906\n",
      "Feature: stroke, k: 3, RMSE: 7338.68466990294\n",
      "Feature: stroke, k: 5, RMSE: 8006.529544647101\n",
      "Feature: stroke, k: 7, RMSE: 7803.937796804327\n",
      "Feature: stroke, k: 9, RMSE: 7735.554366079291\n",
      "Feature: compression_ratio, k: 1, RMSE: 8087.205346523092\n",
      "Feature: compression_ratio, k: 3, RMSE: 7375.063685578359\n",
      "Feature: compression_ratio, k: 5, RMSE: 6610.812153159129\n",
      "Feature: compression_ratio, k: 7, RMSE: 6732.801282941515\n",
      "Feature: compression_ratio, k: 9, RMSE: 7024.485525463435\n",
      "Feature: horsepower, k: 1, RMSE: 4170.054848037801\n",
      "Feature: horsepower, k: 3, RMSE: 4020.8492630885394\n",
      "Feature: horsepower, k: 5, RMSE: 4037.0377131537603\n",
      "Feature: horsepower, k: 7, RMSE: 4353.811860277134\n",
      "Feature: horsepower, k: 9, RMSE: 4515.135617419103\n",
      "Feature: peak_rpm, k: 1, RMSE: 9511.480067750124\n",
      "Feature: peak_rpm, k: 3, RMSE: 8537.550899973421\n",
      "Feature: peak_rpm, k: 5, RMSE: 7697.4596964334805\n",
      "Feature: peak_rpm, k: 7, RMSE: 7510.294160083481\n",
      "Feature: peak_rpm, k: 9, RMSE: 7340.041341263401\n",
      "Feature: city_mpg, k: 1, RMSE: 5901.143574354764\n",
      "Feature: city_mpg, k: 3, RMSE: 4646.746408727155\n",
      "Feature: city_mpg, k: 5, RMSE: 4766.422505090134\n",
      "Feature: city_mpg, k: 7, RMSE: 5232.523034167316\n",
      "Feature: city_mpg, k: 9, RMSE: 5465.209492527533\n",
      "Feature: highway_mpg, k: 1, RMSE: 6025.594966720739\n",
      "Feature: highway_mpg, k: 3, RMSE: 4617.305019788554\n",
      "Feature: highway_mpg, k: 5, RMSE: 4630.026798588056\n",
      "Feature: highway_mpg, k: 7, RMSE: 4796.061440186946\n",
      "Feature: highway_mpg, k: 9, RMSE: 5278.358056953987\n"
     ]
    }
   ],
   "source": [
    "k_values = [1, 3, 5, 7, 9]\n",
    "rmses = {}\n",
    "for feature in features:\n",
    "    for k in  k_values:\n",
    "        rmse = knn_train_test([feature], ['price'], normalized_cars_data, k)\n",
    "        if feature in rmses:\n",
    "            rmses[feature].append(rmse)\n",
    "        else:\n",
    "            rmses[feature] = [rmse]\n",
    "        print('Feature: {}, k: {}, RMSE: {}'.format(feature, k, rmse))"
   ]
  },
  {
   "cell_type": "code",
   "execution_count": 25,
   "metadata": {},
   "outputs": [],
   "source": [
    "import matplotlib.pyplot as plt"
   ]
  },
  {
   "cell_type": "code",
   "execution_count": 26,
   "metadata": {},
   "outputs": [
    {
     "data": {
      "image/png": "[encoded data removed]",
      "text/plain": [
       "<Figure size 864x648 with 1 Axes>"
      ]
     },
     "metadata": {
      "needs_background": "light"
     },
     "output_type": "display_data"
    }
   ],
   "source": [
    "fig = plt.figure(figsize=(12,9))\n",
    "for feature in features:\n",
    "    plt.scatter(k_values, rmses[feature], label=feature)\n",
    "plt.xlabel(\"K nearest neighbor value\")\n",
    "plt.ylabel(\"RMS error\")\n",
    "plt.legend(loc='center left', bbox_to_anchor=(1, 0.5))\n",
    "plt.show()"
   ]
  },
  {
   "cell_type": "markdown",
   "metadata": {},
   "source": [
    "Now i will try to train multivariate model with k = 5."
   ]
  },
  {
   "cell_type": "code",
   "execution_count": 27,
   "metadata": {},
   "outputs": [
    {
     "name": "stdout",
     "output_type": "stream",
     "text": [
      "k: 5\n",
      "Features: ['horsepower', 'curb_weight']\n",
      "RMSE: 3257.849049435976\n"
     ]
    }
   ],
   "source": [
    "k = 5\n",
    "features = [\"horsepower\", \"curb_weight\"]\n",
    "target = ['price']\n",
    "rmse = knn_train_test(features, target, normalized_cars_data, k)\n",
    "print('k: {}'.format(k))\n",
    "print('Features: {}'.format(features))\n",
    "print('RMSE: {}'.format(rmse))"
   ]
  },
  {
   "cell_type": "code",
   "execution_count": 28,
   "metadata": {},
   "outputs": [
    {
     "name": "stdout",
     "output_type": "stream",
     "text": [
      "k: 5\n",
      "Features: ['horsepower', 'curb_weight', 'highway_mpg']\n",
      "RMSE: 3365.9110004529675\n"
     ]
    }
   ],
   "source": [
    "k = 5\n",
    "features = [\"horsepower\", \"curb_weight\", \"highway_mpg\"]\n",
    "target = [\"price\"]\n",
    "rmse = knn_train_test(features, target, normalized_cars_data, k)\n",
    "print('k: {}'.format(k))\n",
    "print('Features: {}'.format(features))\n",
    "print('RMSE: {}'.format(rmse))"
   ]
  },
  {
   "cell_type": "code",
   "execution_count": 29,
   "metadata": {},
   "outputs": [
    {
     "name": "stdout",
     "output_type": "stream",
     "text": [
      "k: 5\n",
      "Features: ['horsepower', 'curb_weight', 'highway_mpg', 'width']\n",
      "RMSE: 3358.6915801682458\n"
     ]
    }
   ],
   "source": [
    "k = 5\n",
    "features = [\"horsepower\", \"curb_weight\", \"highway_mpg\", \"width\"]\n",
    "target = [\"price\"]\n",
    "rmse = knn_train_test(features, target, normalized_cars_data, k)\n",
    "print('k: {}'.format(k))\n",
    "print('Features: {}'.format(features))\n",
    "print('RMSE: {}'.format(rmse))"
   ]
  },
  {
   "cell_type": "code",
   "execution_count": 30,
   "metadata": {},
   "outputs": [
    {
     "name": "stdout",
     "output_type": "stream",
     "text": [
      "k: 5\n",
      "Features: ['horsepower', 'curb_weight', 'highway_mpg', 'width', 'wheel_base']\n",
      "RMSE: 3688.690291866061\n"
     ]
    }
   ],
   "source": [
    "k = 5\n",
    "features = [\"horsepower\", \"curb_weight\", \"highway_mpg\", \"width\", \"wheel_base\"]\n",
    "target = [\"price\"]\n",
    "rmse = knn_train_test(features, target, normalized_cars_data, k)\n",
    "print('k: {}'.format(k))\n",
    "print('Features: {}'.format(features))\n",
    "print('RMSE: {}'.format(rmse))"
   ]
  },
  {
   "cell_type": "markdown",
   "metadata": {},
   "source": [
    "For k = 5, three top models with smallest RMS error:\n",
    "- Features: ['horsepower', 'curb_weight', 'highway_mpg', 'width'] -> RMSE: 43.75157140035086\n",
    "- Features: ['horsepower', 'curb_weight', 'highway_mpg'] -> RMSE: 45.06556280015873\n",
    "- Features: ['horsepower', 'curb_weight', 'highway_mpg', 'width', 'wheel_base'] -> RMSE: 45.22307743479281"
   ]
  },
  {
   "cell_type": "markdown",
   "metadata": {},
   "source": [
    "Now I will adjust hyperparameter k of above models"
   ]
  },
  {
   "cell_type": "code",
   "execution_count": 32,
   "metadata": {},
   "outputs": [
    {
     "data": {
      "image/png": "[encoded data removed]",
      "text/plain": [
       "<Figure size 864x648 with 1 Axes>"
      ]
     },
     "metadata": {
      "needs_background": "light"
     },
     "output_type": "display_data"
    }
   ],
   "source": [
    "target = [\"price\"]\n",
    "\n",
    "features_top_1 = [\"horsepower\", \"curb_weight\", \"highway_mpg\", \"width\"]\n",
    "rmses_top_1 = []\n",
    "k_values = [i for i in range(1,26)]\n",
    "for k in k_values:\n",
    "    rmse = knn_train_test(features_top_1, target, normalized_cars_data, k)\n",
    "    rmses_top_1.append(rmse)\n",
    "    \n",
    "features_top_2 = ['horsepower', 'curb_weight', 'highway_mpg']\n",
    "rmses_top_2 = []\n",
    "for k in k_values:\n",
    "    rmse = knn_train_test(features_top_2, target, normalized_cars_data, k)\n",
    "    rmses_top_2.append(rmse)\n",
    "    \n",
    "features_top_3 = ['horsepower', 'curb_weight', 'highway_mpg', 'width', 'wheel_base']\n",
    "rmses_top_3 = []\n",
    "for k in k_values:\n",
    "    rmse = knn_train_test(features_top_3, target, normalized_cars_data, k)\n",
    "    rmses_top_3.append(rmse)\n",
    "\n",
    "fig = plt.figure(figsize=(12,9))\n",
    "plt.scatter(k_values, rmses_top_1, label=features_top_1)\n",
    "plt.scatter(k_values, rmses_top_2, label=features_top_2)\n",
    "plt.scatter(k_values, rmses_top_3, label=features_top_3)\n",
    "plt.legend(loc='best')\n",
    "plt.xlabel(\"K nearest neighbour values\")\n",
    "plt.ylabel(\"RMS error\")\n",
    "plt.show()"
   ]
  },
  {
   "cell_type": "markdown",
   "metadata": {},
   "source": [
    "The most accurate model is:\n",
    "k = 1 and\n",
    "features = [\"horsepower\", \"curb_weight\", \"highway_mpg\", \"width\"]"
   ]
  }
 ],
 "metadata": {
  "kernelspec": {
   "display_name": "Python 3",
   "language": "python",
   "name": "python3"
  },
  "language_info": {
   "codemirror_mode": {
    "name": "ipython",
    "version": 3
   },
   "file_extension": ".py",
   "mimetype": "text/x-python",
   "name": "python",
   "nbconvert_exporter": "python",
   "pygments_lexer": "ipython3",
   "version": "3.7.6"
  }
 },
 "nbformat": 4,
 "nbformat_minor": 2
}
